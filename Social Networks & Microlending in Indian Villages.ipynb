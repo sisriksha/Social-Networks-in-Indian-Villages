{
 "cells": [
  {
   "cell_type": "markdown",
   "metadata": {},
   "source": [
    "## Social Networks & Microfinance in Indian Villages (Python)"
   ]
  },
  {
   "cell_type": "markdown",
   "metadata": {},
   "source": [
    "### Introduction"
   ]
  },
  {
   "cell_type": "markdown",
   "metadata": {},
   "source": [
    "Below is a simplified and cleaned version of “Data on Social Networks and Microfinance in Indian Villages”,\tpublished in Prof.\tMatthew\tJackson\tand\tcoauthors’ websites. Here is the original link to the data:\thttp://web.stanford.edu/~jacksonm/Data.html. It\thas\tdata on\tseven different\trelations (borrowing and lending rice, borrowing and lending money,\tgoing to temple\ttogether,\tetc.) in 75 of villages\tin\tIndia, together\twith some demographic information. For the current project, we will\tbe mostly working with partial data on village #1. This is an exercise in linear and multiple regression."
   ]
  },
  {
   "cell_type": "markdown",
   "metadata": {},
   "source": [
    "### Loading the Data"
   ]
  },
  {
   "cell_type": "code",
   "execution_count": 1,
   "metadata": {
    "collapsed": true
   },
   "outputs": [],
   "source": [
    "import pandas as pd"
   ]
  },
  {
   "cell_type": "code",
   "execution_count": 2,
   "metadata": {},
   "outputs": [
    {
     "data": {
      "text/html": [
       "<div>\n",
       "<style>\n",
       "    .dataframe thead tr:only-child th {\n",
       "        text-align: right;\n",
       "    }\n",
       "\n",
       "    .dataframe thead th {\n",
       "        text-align: left;\n",
       "    }\n",
       "\n",
       "    .dataframe tbody tr th {\n",
       "        vertical-align: top;\n",
       "    }\n",
       "</style>\n",
       "<table border=\"1\" class=\"dataframe\">\n",
       "  <thead>\n",
       "    <tr style=\"text-align: right;\">\n",
       "      <th></th>\n",
       "      <th>mpid_hh</th>\n",
       "      <th>pid_hh</th>\n",
       "      <th>keroricego_hh</th>\n",
       "      <th>templecompany_hh</th>\n",
       "      <th>keroricecome_hh</th>\n",
       "      <th>lendmoney_hh</th>\n",
       "      <th>borrowmoney_hh</th>\n",
       "      <th>samecaste_hh</th>\n",
       "      <th>sameoccupation_hh</th>\n",
       "    </tr>\n",
       "  </thead>\n",
       "  <tbody>\n",
       "    <tr>\n",
       "      <th>1</th>\n",
       "      <td>1002</td>\n",
       "      <td>1001</td>\n",
       "      <td>1</td>\n",
       "      <td>0</td>\n",
       "      <td>1</td>\n",
       "      <td>0</td>\n",
       "      <td>0</td>\n",
       "      <td>0</td>\n",
       "      <td>0</td>\n",
       "    </tr>\n",
       "    <tr>\n",
       "      <th>2</th>\n",
       "      <td>1002</td>\n",
       "      <td>1002</td>\n",
       "      <td>0</td>\n",
       "      <td>1</td>\n",
       "      <td>0</td>\n",
       "      <td>0</td>\n",
       "      <td>1</td>\n",
       "      <td>1</td>\n",
       "      <td>0</td>\n",
       "    </tr>\n",
       "    <tr>\n",
       "      <th>3</th>\n",
       "      <td>1002</td>\n",
       "      <td>1004</td>\n",
       "      <td>0</td>\n",
       "      <td>0</td>\n",
       "      <td>0</td>\n",
       "      <td>0</td>\n",
       "      <td>0</td>\n",
       "      <td>0</td>\n",
       "      <td>0</td>\n",
       "    </tr>\n",
       "    <tr>\n",
       "      <th>4</th>\n",
       "      <td>1002</td>\n",
       "      <td>1006</td>\n",
       "      <td>0</td>\n",
       "      <td>0</td>\n",
       "      <td>0</td>\n",
       "      <td>0</td>\n",
       "      <td>0</td>\n",
       "      <td>1</td>\n",
       "      <td>0</td>\n",
       "    </tr>\n",
       "    <tr>\n",
       "      <th>5</th>\n",
       "      <td>1002</td>\n",
       "      <td>1007</td>\n",
       "      <td>0</td>\n",
       "      <td>0</td>\n",
       "      <td>0</td>\n",
       "      <td>0</td>\n",
       "      <td>0</td>\n",
       "      <td>1</td>\n",
       "      <td>0</td>\n",
       "    </tr>\n",
       "  </tbody>\n",
       "</table>\n",
       "</div>"
      ],
      "text/plain": [
       "   mpid_hh  pid_hh  keroricego_hh  templecompany_hh  keroricecome_hh  \\\n",
       "1     1002    1001              1                 0                1   \n",
       "2     1002    1002              0                 1                0   \n",
       "3     1002    1004              0                 0                0   \n",
       "4     1002    1006              0                 0                0   \n",
       "5     1002    1007              0                 0                0   \n",
       "\n",
       "   lendmoney_hh  borrowmoney_hh  samecaste_hh  sameoccupation_hh  \n",
       "1             0               0             0                  0  \n",
       "2             0               1             1                  0  \n",
       "3             0               0             0                  0  \n",
       "4             0               0             1                  0  \n",
       "5             0               0             1                  0  "
      ]
     },
     "execution_count": 2,
     "metadata": {},
     "output_type": "execute_result"
    }
   ],
   "source": [
    "v1hh = pd.read_csv(\"v1hh.csv\", index_col=0)\n",
    "v1hh.head()"
   ]
  },
  {
   "cell_type": "markdown",
   "metadata": {},
   "source": [
    "### Describing the data"
   ]
  },
  {
   "cell_type": "markdown",
   "metadata": {},
   "source": [
    "#### Question 1.1: Find the sample size."
   ]
  },
  {
   "cell_type": "code",
   "execution_count": 3,
   "metadata": {},
   "outputs": [
    {
     "data": {
      "text/plain": [
       "6163"
      ]
     },
     "execution_count": 3,
     "metadata": {},
     "output_type": "execute_result"
    }
   ],
   "source": [
    "n = v1hh.shape[0]\n",
    "n"
   ]
  },
  {
   "cell_type": "markdown",
   "metadata": {},
   "source": [
    "Answer: Sample size = 6163"
   ]
  },
  {
   "cell_type": "markdown",
   "metadata": {},
   "source": [
    "#### Question 1.2: Find\tthe\tmean and\tstandard\tdeviation for\tthe\tfollowing\tvariables: templecompany_hh, lendmoney_hh, keroricego_hh "
   ]
  },
  {
   "cell_type": "code",
   "execution_count": 4,
   "metadata": {},
   "outputs": [
    {
     "data": {
      "text/html": [
       "<div>\n",
       "<style>\n",
       "    .dataframe thead tr:only-child th {\n",
       "        text-align: right;\n",
       "    }\n",
       "\n",
       "    .dataframe thead th {\n",
       "        text-align: left;\n",
       "    }\n",
       "\n",
       "    .dataframe tbody tr th {\n",
       "        vertical-align: top;\n",
       "    }\n",
       "</style>\n",
       "<table border=\"1\" class=\"dataframe\">\n",
       "  <thead>\n",
       "    <tr style=\"text-align: right;\">\n",
       "      <th></th>\n",
       "      <th>templecompany_hh</th>\n",
       "      <th>lendmoney_hh</th>\n",
       "      <th>keroricego_hh</th>\n",
       "    </tr>\n",
       "  </thead>\n",
       "  <tbody>\n",
       "    <tr>\n",
       "      <th>count</th>\n",
       "      <td>6163.000000</td>\n",
       "      <td>6163.000000</td>\n",
       "      <td>6163.000000</td>\n",
       "    </tr>\n",
       "    <tr>\n",
       "      <th>mean</th>\n",
       "      <td>0.011358</td>\n",
       "      <td>0.040240</td>\n",
       "      <td>0.040565</td>\n",
       "    </tr>\n",
       "    <tr>\n",
       "      <th>std</th>\n",
       "      <td>0.105976</td>\n",
       "      <td>0.196538</td>\n",
       "      <td>0.197295</td>\n",
       "    </tr>\n",
       "    <tr>\n",
       "      <th>min</th>\n",
       "      <td>0.000000</td>\n",
       "      <td>0.000000</td>\n",
       "      <td>0.000000</td>\n",
       "    </tr>\n",
       "    <tr>\n",
       "      <th>25%</th>\n",
       "      <td>0.000000</td>\n",
       "      <td>0.000000</td>\n",
       "      <td>0.000000</td>\n",
       "    </tr>\n",
       "    <tr>\n",
       "      <th>50%</th>\n",
       "      <td>0.000000</td>\n",
       "      <td>0.000000</td>\n",
       "      <td>0.000000</td>\n",
       "    </tr>\n",
       "    <tr>\n",
       "      <th>75%</th>\n",
       "      <td>0.000000</td>\n",
       "      <td>0.000000</td>\n",
       "      <td>0.000000</td>\n",
       "    </tr>\n",
       "    <tr>\n",
       "      <th>max</th>\n",
       "      <td>1.000000</td>\n",
       "      <td>1.000000</td>\n",
       "      <td>1.000000</td>\n",
       "    </tr>\n",
       "  </tbody>\n",
       "</table>\n",
       "</div>"
      ],
      "text/plain": [
       "       templecompany_hh  lendmoney_hh  keroricego_hh\n",
       "count       6163.000000   6163.000000    6163.000000\n",
       "mean           0.011358      0.040240       0.040565\n",
       "std            0.105976      0.196538       0.197295\n",
       "min            0.000000      0.000000       0.000000\n",
       "25%            0.000000      0.000000       0.000000\n",
       "50%            0.000000      0.000000       0.000000\n",
       "75%            0.000000      0.000000       0.000000\n",
       "max            1.000000      1.000000       1.000000"
      ]
     },
     "execution_count": 4,
     "metadata": {},
     "output_type": "execute_result"
    }
   ],
   "source": [
    "selected_cols = ['templecompany_hh', 'lendmoney_hh', 'keroricego_hh']\n",
    "v1hh[selected_cols].describe()"
   ]
  },
  {
   "cell_type": "markdown",
   "metadata": {},
   "source": [
    "Answer: templecompany_hh (mean = 0.0114, standard deviation = 0.1060) ; lendmoney_hh (mean = 0.0402, standard deviation = 0.1965) ; keroricego_hh (mean = 0.0406, standard deviation = 0.1973)"
   ]
  },
  {
   "cell_type": "markdown",
   "metadata": {},
   "source": [
    "#### Question 1.3: Find\tthe\tcorrelation\tcoefficient\tbetween\tkeroricego_hh and samecaste_hh"
   ]
  },
  {
   "cell_type": "code",
   "execution_count": 5,
   "metadata": {},
   "outputs": [
    {
     "data": {
      "text/html": [
       "<div>\n",
       "<style>\n",
       "    .dataframe thead tr:only-child th {\n",
       "        text-align: right;\n",
       "    }\n",
       "\n",
       "    .dataframe thead th {\n",
       "        text-align: left;\n",
       "    }\n",
       "\n",
       "    .dataframe tbody tr th {\n",
       "        vertical-align: top;\n",
       "    }\n",
       "</style>\n",
       "<table border=\"1\" class=\"dataframe\">\n",
       "  <thead>\n",
       "    <tr style=\"text-align: right;\">\n",
       "      <th></th>\n",
       "      <th>keroricego_hh</th>\n",
       "      <th>samecaste_hh</th>\n",
       "    </tr>\n",
       "  </thead>\n",
       "  <tbody>\n",
       "    <tr>\n",
       "      <th>keroricego_hh</th>\n",
       "      <td>1.000000</td>\n",
       "      <td>-0.091769</td>\n",
       "    </tr>\n",
       "    <tr>\n",
       "      <th>samecaste_hh</th>\n",
       "      <td>-0.091769</td>\n",
       "      <td>1.000000</td>\n",
       "    </tr>\n",
       "  </tbody>\n",
       "</table>\n",
       "</div>"
      ],
      "text/plain": [
       "               keroricego_hh  samecaste_hh\n",
       "keroricego_hh       1.000000     -0.091769\n",
       "samecaste_hh       -0.091769      1.000000"
      ]
     },
     "execution_count": 5,
     "metadata": {},
     "output_type": "execute_result"
    }
   ],
   "source": [
    "selected_cols = ['keroricego_hh', 'samecaste_hh']\n",
    "v1hh[selected_cols].corr()"
   ]
  },
  {
   "cell_type": "markdown",
   "metadata": {},
   "source": [
    "Answer: Correlation coefficient between keroricego_hh and samecaste_hh = -0.0918"
   ]
  },
  {
   "cell_type": "markdown",
   "metadata": {},
   "source": [
    "#### Question 1.4: How\tmany\tpairs (in\ttotal) have\tthe\trelation\t“lendmoney_hh” in\tthis\tvillage?"
   ]
  },
  {
   "cell_type": "code",
   "execution_count": 6,
   "metadata": {},
   "outputs": [
    {
     "data": {
      "text/plain": [
       "0    5915\n",
       "1     248\n",
       "Name: lendmoney_hh, dtype: int64"
      ]
     },
     "execution_count": 6,
     "metadata": {},
     "output_type": "execute_result"
    }
   ],
   "source": [
    "v1hh['lendmoney_hh'].value_counts()"
   ]
  },
  {
   "cell_type": "markdown",
   "metadata": {},
   "source": [
    "Answer: 248 pairs in total have the relation \"lendmoney_hh\" in this village"
   ]
  },
  {
   "cell_type": "markdown",
   "metadata": {},
   "source": [
    "#### Question 1.5: Is\tthe\taverage\tnumber\trelation\t“lendmoney_hh”\tgreater\tthan\t0. 035 at\t5%\tsignificance\tlevel?\t"
   ]
  },
  {
   "cell_type": "markdown",
   "metadata": {},
   "source": [
    "Null Hypothesis: Average number relation \"lendmoney_hh\" <= 0.035"
   ]
  },
  {
   "cell_type": "markdown",
   "metadata": {},
   "source": [
    "Alternative Hypothesis: Average number relation \"lendmoney_hh\" > 0.035"
   ]
  },
  {
   "cell_type": "code",
   "execution_count": 7,
   "metadata": {},
   "outputs": [
    {
     "data": {
      "text/plain": [
       "(2.0931141852857542, 0.036379750081896228)"
      ]
     },
     "execution_count": 7,
     "metadata": {},
     "output_type": "execute_result"
    }
   ],
   "source": [
    "import scipy.stats as ss\n",
    "\n",
    "#Two-tailed t-test\n",
    "t_statistic, p_value_2tailed = ss.ttest_1samp(v1hh['lendmoney_hh'], 0.035)\n",
    "t_statistic, p_value_2tailed"
   ]
  },
  {
   "cell_type": "code",
   "execution_count": 8,
   "metadata": {},
   "outputs": [
    {
     "data": {
      "text/plain": [
       "0.018189875040948114"
      ]
     },
     "execution_count": 8,
     "metadata": {},
     "output_type": "execute_result"
    }
   ],
   "source": [
    "p_value_1tailed = p_value_2tailed / 2\n",
    "p_value_1tailed "
   ]
  },
  {
   "cell_type": "markdown",
   "metadata": {},
   "source": [
    "As p-value < 0.05, we reject the null hypothesis."
   ]
  },
  {
   "cell_type": "markdown",
   "metadata": {},
   "source": [
    "Answer: Average number relation \"lendmoney_hh\" is greater than 0.035 at 5% significance level."
   ]
  },
  {
   "cell_type": "markdown",
   "metadata": {},
   "source": [
    "#### Question 1.6: Construct\ta\tconfidence\tinterval for\tthe\tpopulation\tmean for\tlendmoney_hh, at confidence level of 95%."
   ]
  },
  {
   "cell_type": "code",
   "execution_count": 9,
   "metadata": {},
   "outputs": [
    {
     "data": {
      "text/plain": [
       "(0.04024014278760344, 0.19653788765391517)"
      ]
     },
     "execution_count": 9,
     "metadata": {},
     "output_type": "execute_result"
    }
   ],
   "source": [
    "mean = v1hh['lendmoney_hh'].mean()\n",
    "std = v1hh['lendmoney_hh'].std()\n",
    "mean, std"
   ]
  },
  {
   "cell_type": "code",
   "execution_count": 10,
   "metadata": {},
   "outputs": [
    {
     "data": {
      "text/plain": [
       "1.9603491053680193"
      ]
     },
     "execution_count": 10,
     "metadata": {},
     "output_type": "execute_result"
    }
   ],
   "source": [
    "df = n - 2\n",
    "critical_val = ss.t.ppf(0.975,df)\n",
    "critical_val"
   ]
  },
  {
   "cell_type": "code",
   "execution_count": 11,
   "metadata": {},
   "outputs": [
    {
     "data": {
      "text/plain": [
       "(0.035332379370827782, 0.045147906204379099)"
      ]
     },
     "execution_count": 11,
     "metadata": {},
     "output_type": "execute_result"
    }
   ],
   "source": [
    "import math\n",
    "\n",
    "confidence_interval =(mean - (critical_val * (std/math.sqrt(n))), mean + (critical_val * (std/math.sqrt(n))))\n",
    "confidence_interval"
   ]
  },
  {
   "cell_type": "markdown",
   "metadata": {},
   "source": [
    "Answer: Confidence interval for population mean for lendmoney_hh = (0.0353, 0.0451)"
   ]
  },
  {
   "cell_type": "markdown",
   "metadata": {},
   "source": [
    "### Simple Linear Regression"
   ]
  },
  {
   "cell_type": "markdown",
   "metadata": {},
   "source": [
    "#### Question 2.1: Find\tthe\tintercept and\tslope [ keroricego_hh ~ samecaste_hh ].\tFind\tthe\tp-values\tfor\tboth.\tHow\tdo\tyou\tinterpret\tthe\tslope (together\twith\tits\tp-value)?"
   ]
  },
  {
   "cell_type": "code",
   "execution_count": 12,
   "metadata": {
    "collapsed": true
   },
   "outputs": [],
   "source": [
    "import statsmodels.formula.api as sm"
   ]
  },
  {
   "cell_type": "code",
   "execution_count": 13,
   "metadata": {},
   "outputs": [
    {
     "data": {
      "text/html": [
       "<table class=\"simpletable\">\n",
       "<caption>OLS Regression Results</caption>\n",
       "<tr>\n",
       "  <th>Dep. Variable:</th>      <td>keroricego_hh</td>  <th>  R-squared:         </th> <td>   0.008</td>\n",
       "</tr>\n",
       "<tr>\n",
       "  <th>Model:</th>                   <td>OLS</td>       <th>  Adj. R-squared:    </th> <td>   0.008</td>\n",
       "</tr>\n",
       "<tr>\n",
       "  <th>Method:</th>             <td>Least Squares</td>  <th>  F-statistic:       </th> <td>   52.33</td>\n",
       "</tr>\n",
       "<tr>\n",
       "  <th>Date:</th>             <td>Sun, 08 Oct 2017</td> <th>  Prob (F-statistic):</th> <td>5.27e-13</td>\n",
       "</tr>\n",
       "<tr>\n",
       "  <th>Time:</th>                 <td>16:43:19</td>     <th>  Log-Likelihood:    </th> <td>  1284.5</td>\n",
       "</tr>\n",
       "<tr>\n",
       "  <th>No. Observations:</th>      <td>  6163</td>      <th>  AIC:               </th> <td>  -2565.</td>\n",
       "</tr>\n",
       "<tr>\n",
       "  <th>Df Residuals:</th>          <td>  6161</td>      <th>  BIC:               </th> <td>  -2552.</td>\n",
       "</tr>\n",
       "<tr>\n",
       "  <th>Df Model:</th>              <td>     1</td>      <th>                     </th>     <td> </td>   \n",
       "</tr>\n",
       "<tr>\n",
       "  <th>Covariance Type:</th>      <td>nonrobust</td>    <th>                     </th>     <td> </td>   \n",
       "</tr>\n",
       "</table>\n",
       "<table class=\"simpletable\">\n",
       "<tr>\n",
       "        <td></td>          <th>coef</th>     <th>std err</th>      <th>t</th>      <th>P>|t|</th>  <th>[0.025</th>    <th>0.975]</th>  \n",
       "</tr>\n",
       "<tr>\n",
       "  <th>Intercept</th>    <td>    0.0656</td> <td>    0.004</td> <td>   15.365</td> <td> 0.000</td> <td>    0.057</td> <td>    0.074</td>\n",
       "</tr>\n",
       "<tr>\n",
       "  <th>samecaste_hh</th> <td>   -0.0381</td> <td>    0.005</td> <td>   -7.234</td> <td> 0.000</td> <td>   -0.048</td> <td>   -0.028</td>\n",
       "</tr>\n",
       "</table>\n",
       "<table class=\"simpletable\">\n",
       "<tr>\n",
       "  <th>Omnibus:</th>       <td>5553.597</td> <th>  Durbin-Watson:     </th>  <td>   1.858</td> \n",
       "</tr>\n",
       "<tr>\n",
       "  <th>Prob(Omnibus):</th>  <td> 0.000</td>  <th>  Jarque-Bera (JB):  </th> <td>118066.971</td>\n",
       "</tr>\n",
       "<tr>\n",
       "  <th>Skew:</th>           <td> 4.599</td>  <th>  Prob(JB):          </th>  <td>    0.00</td> \n",
       "</tr>\n",
       "<tr>\n",
       "  <th>Kurtosis:</th>       <td>22.369</td>  <th>  Cond. No.          </th>  <td>    3.17</td> \n",
       "</tr>\n",
       "</table>"
      ],
      "text/plain": [
       "<class 'statsmodels.iolib.summary.Summary'>\n",
       "\"\"\"\n",
       "                            OLS Regression Results                            \n",
       "==============================================================================\n",
       "Dep. Variable:          keroricego_hh   R-squared:                       0.008\n",
       "Model:                            OLS   Adj. R-squared:                  0.008\n",
       "Method:                 Least Squares   F-statistic:                     52.33\n",
       "Date:                Sun, 08 Oct 2017   Prob (F-statistic):           5.27e-13\n",
       "Time:                        16:43:19   Log-Likelihood:                 1284.5\n",
       "No. Observations:                6163   AIC:                            -2565.\n",
       "Df Residuals:                    6161   BIC:                            -2552.\n",
       "Df Model:                           1                                         \n",
       "Covariance Type:            nonrobust                                         \n",
       "================================================================================\n",
       "                   coef    std err          t      P>|t|      [0.025      0.975]\n",
       "--------------------------------------------------------------------------------\n",
       "Intercept        0.0656      0.004     15.365      0.000       0.057       0.074\n",
       "samecaste_hh    -0.0381      0.005     -7.234      0.000      -0.048      -0.028\n",
       "==============================================================================\n",
       "Omnibus:                     5553.597   Durbin-Watson:                   1.858\n",
       "Prob(Omnibus):                  0.000   Jarque-Bera (JB):           118066.971\n",
       "Skew:                           4.599   Prob(JB):                         0.00\n",
       "Kurtosis:                      22.369   Cond. No.                         3.17\n",
       "==============================================================================\n",
       "\n",
       "Warnings:\n",
       "[1] Standard Errors assume that the covariance matrix of the errors is correctly specified.\n",
       "\"\"\""
      ]
     },
     "execution_count": 13,
     "metadata": {},
     "output_type": "execute_result"
    }
   ],
   "source": [
    "result = sm.ols(formula='keroricego_hh ~ samecaste_hh', data = v1hh).fit()\n",
    "result.summary()"
   ]
  },
  {
   "cell_type": "code",
   "execution_count": 14,
   "metadata": {},
   "outputs": [
    {
     "data": {
      "image/png": "[encoded data removed]",
      "text/plain": [
       "<matplotlib.figure.Figure at 0x18da192e390>"
      ]
     },
     "metadata": {},
     "output_type": "display_data"
    }
   ],
   "source": [
    "%matplotlib inline\n",
    "\n",
    "import matplotlib.pyplot as plt\n",
    "\n",
    "plt.scatter(v1hh['samecaste_hh'],v1hh['keroricego_hh'])\n",
    "y_val = -0.0381 * v1hh['samecaste_hh'] + 0.0656\n",
    "plt.plot(v1hh['samecaste_hh'], y_val)\n",
    "plt.xlabel('samecaste_hh')\n",
    "plt.ylabel('keroricego_hh')\n",
    "plt.show()"
   ]
  },
  {
   "cell_type": "markdown",
   "metadata": {},
   "source": [
    "Answer: "
   ]
  },
  {
   "cell_type": "markdown",
   "metadata": {},
   "source": [
    "Slope = -0.0381, p-value = 0.000"
   ]
  },
  {
   "cell_type": "markdown",
   "metadata": {},
   "source": [
    "Intercept = 0.0656, p-value = 0.000"
   ]
  },
  {
   "cell_type": "markdown",
   "metadata": {},
   "source": [
    "Interpretation: As the keroricego_hh and samecaste_hh are categorical variables, a negative slope represents that households  from different castes are more likely to lend rice. The low p-value indicates that this relationship is statistically significant, i.e. keroricego_hh and samecaste_hh are negatively correlated (as evidenced by answer from 1.3)"
   ]
  },
  {
   "cell_type": "markdown",
   "metadata": {},
   "source": [
    "#### Question 2.2: Repeat\twhat\tyou\tdid\tin\t2.1,\twith\t“templecompany_hh”\tbeing\tthe\tnew\tdependent\tvariable (instead\tof\t“keroricego_hh”)."
   ]
  },
  {
   "cell_type": "code",
   "execution_count": 15,
   "metadata": {},
   "outputs": [
    {
     "data": {
      "text/html": [
       "<table class=\"simpletable\">\n",
       "<caption>OLS Regression Results</caption>\n",
       "<tr>\n",
       "  <th>Dep. Variable:</th>    <td>templecompany_hh</td> <th>  R-squared:         </th>  <td>   0.001</td> \n",
       "</tr>\n",
       "<tr>\n",
       "  <th>Model:</th>                   <td>OLS</td>       <th>  Adj. R-squared:    </th>  <td>   0.001</td> \n",
       "</tr>\n",
       "<tr>\n",
       "  <th>Method:</th>             <td>Least Squares</td>  <th>  F-statistic:       </th>  <td>   7.867</td> \n",
       "</tr>\n",
       "<tr>\n",
       "  <th>Date:</th>             <td>Sun, 08 Oct 2017</td> <th>  Prob (F-statistic):</th>   <td>0.00505</td> \n",
       "</tr>\n",
       "<tr>\n",
       "  <th>Time:</th>                 <td>16:43:20</td>     <th>  Log-Likelihood:    </th>  <td>  5092.6</td> \n",
       "</tr>\n",
       "<tr>\n",
       "  <th>No. Observations:</th>      <td>  6163</td>      <th>  AIC:               </th> <td>-1.018e+04</td>\n",
       "</tr>\n",
       "<tr>\n",
       "  <th>Df Residuals:</th>          <td>  6161</td>      <th>  BIC:               </th> <td>-1.017e+04</td>\n",
       "</tr>\n",
       "<tr>\n",
       "  <th>Df Model:</th>              <td>     1</td>      <th>                     </th>      <td> </td>    \n",
       "</tr>\n",
       "<tr>\n",
       "  <th>Covariance Type:</th>      <td>nonrobust</td>    <th>                     </th>      <td> </td>    \n",
       "</tr>\n",
       "</table>\n",
       "<table class=\"simpletable\">\n",
       "<tr>\n",
       "        <td></td>          <th>coef</th>     <th>std err</th>      <th>t</th>      <th>P>|t|</th>  <th>[0.025</th>    <th>0.975]</th>  \n",
       "</tr>\n",
       "<tr>\n",
       "  <th>Intercept</th>    <td>    0.0061</td> <td>    0.002</td> <td>    2.666</td> <td> 0.008</td> <td>    0.002</td> <td>    0.011</td>\n",
       "</tr>\n",
       "<tr>\n",
       "  <th>samecaste_hh</th> <td>    0.0080</td> <td>    0.003</td> <td>    2.805</td> <td> 0.005</td> <td>    0.002</td> <td>    0.014</td>\n",
       "</tr>\n",
       "</table>\n",
       "<table class=\"simpletable\">\n",
       "<tr>\n",
       "  <th>Omnibus:</th>       <td>9021.277</td> <th>  Durbin-Watson:     </th>  <td>   1.962</td>  \n",
       "</tr>\n",
       "<tr>\n",
       "  <th>Prob(Omnibus):</th>  <td> 0.000</td>  <th>  Jarque-Bera (JB):  </th> <td>1849259.521</td>\n",
       "</tr>\n",
       "<tr>\n",
       "  <th>Skew:</th>           <td> 9.205</td>  <th>  Prob(JB):          </th>  <td>    0.00</td>  \n",
       "</tr>\n",
       "<tr>\n",
       "  <th>Kurtosis:</th>       <td>85.840</td>  <th>  Cond. No.          </th>  <td>    3.17</td>  \n",
       "</tr>\n",
       "</table>"
      ],
      "text/plain": [
       "<class 'statsmodels.iolib.summary.Summary'>\n",
       "\"\"\"\n",
       "                            OLS Regression Results                            \n",
       "==============================================================================\n",
       "Dep. Variable:       templecompany_hh   R-squared:                       0.001\n",
       "Model:                            OLS   Adj. R-squared:                  0.001\n",
       "Method:                 Least Squares   F-statistic:                     7.867\n",
       "Date:                Sun, 08 Oct 2017   Prob (F-statistic):            0.00505\n",
       "Time:                        16:43:20   Log-Likelihood:                 5092.6\n",
       "No. Observations:                6163   AIC:                        -1.018e+04\n",
       "Df Residuals:                    6161   BIC:                        -1.017e+04\n",
       "Df Model:                           1                                         \n",
       "Covariance Type:            nonrobust                                         \n",
       "================================================================================\n",
       "                   coef    std err          t      P>|t|      [0.025      0.975]\n",
       "--------------------------------------------------------------------------------\n",
       "Intercept        0.0061      0.002      2.666      0.008       0.002       0.011\n",
       "samecaste_hh     0.0080      0.003      2.805      0.005       0.002       0.014\n",
       "==============================================================================\n",
       "Omnibus:                     9021.277   Durbin-Watson:                   1.962\n",
       "Prob(Omnibus):                  0.000   Jarque-Bera (JB):          1849259.521\n",
       "Skew:                           9.205   Prob(JB):                         0.00\n",
       "Kurtosis:                      85.840   Cond. No.                         3.17\n",
       "==============================================================================\n",
       "\n",
       "Warnings:\n",
       "[1] Standard Errors assume that the covariance matrix of the errors is correctly specified.\n",
       "\"\"\""
      ]
     },
     "execution_count": 15,
     "metadata": {},
     "output_type": "execute_result"
    }
   ],
   "source": [
    "result = sm.ols(formula='templecompany_hh ~ samecaste_hh', data = v1hh).fit()\n",
    "result.summary()"
   ]
  },
  {
   "cell_type": "code",
   "execution_count": 16,
   "metadata": {},
   "outputs": [
    {
     "data": {
      "image/png": "[encoded data removed]",
      "text/plain": [
       "<matplotlib.figure.Figure at 0x18da29d1278>"
      ]
     },
     "metadata": {},
     "output_type": "display_data"
    }
   ],
   "source": [
    "plt.scatter(v1hh['samecaste_hh'],v1hh['templecompany_hh'])\n",
    "y_val = 0.0080 * v1hh['samecaste_hh'] + 0.0061\n",
    "plt.plot(v1hh['samecaste_hh'], y_val)\n",
    "plt.xlabel('samecaste_hh')\n",
    "plt.ylabel('templecompany_hh')\n",
    "plt.show()"
   ]
  },
  {
   "cell_type": "markdown",
   "metadata": {},
   "source": [
    "Answer: "
   ]
  },
  {
   "cell_type": "markdown",
   "metadata": {},
   "source": [
    "Slope = 0.0080, p-value = 0.005"
   ]
  },
  {
   "cell_type": "markdown",
   "metadata": {},
   "source": [
    "Intercept = 0.0061, p-value = 0.008"
   ]
  },
  {
   "cell_type": "markdown",
   "metadata": {},
   "source": [
    "Interpretation: As the templecompany_hh and samecaste_hh are categorical variables, a positive slope represents that households  from same castes are more likely to go to the temple together. The low p-value indicates that this relationship is statistically significant, i.e. keroricego_hh and samecaste_hh are positively correlated."
   ]
  },
  {
   "cell_type": "markdown",
   "metadata": {},
   "source": [
    "#### Question 2.3: \tIs\tthere\tany\tdifference(s)\tbetween\twhat\tyou\tfound\tin\t2.1\tand\t2.2?\t(e.g.,\tin\tterms\tof\tslope, p-value,\tetc.) If\tyou\tfound\tany\tdifferences,\tcan\tyou\ttell\tsome\tstory/intuition\tto\tjustify\tthose?"
   ]
  },
  {
   "cell_type": "markdown",
   "metadata": {},
   "source": [
    "Yes. 2.1 has negative slope where as 2.2 has positive slope. "
   ]
  },
  {
   "cell_type": "markdown",
   "metadata": {},
   "source": [
    "One of possible reasons could be explained by exploring the effect of caste on socio-economic status of households. "
   ]
  },
  {
   "cell_type": "markdown",
   "metadata": {},
   "source": [
    "In 2.1, we found that households from the same caste are less likely to lend rice to each other. In rural India, caste can often determine the jobs taken on by the household. For example, if a household belongs to the 'baniya' (business) caste, then the major occupation of the family members tend to be tradesmen. As the occupation is the same, the economic status is almost the same for households with the same caste. As rice is a staple food item, rice is probably lent to a poorer household by a richer household. This explains why households belonging to different castes are more likely to lend rice. "
   ]
  },
  {
   "cell_type": "markdown",
   "metadata": {},
   "source": [
    "In 2.2, we found that households from same caste are more likely to go to the temple together. In rural India, people tend to socialize according to their caste. Things like inter-caste marriages are generally frowned upon. Therefore, it is likely that people from the same caste participate in recreational activities (like, going to the temple) as a group.   "
   ]
  },
  {
   "cell_type": "markdown",
   "metadata": {},
   "source": [
    "Also, the 2.2 has larger p-value that 2.1 (although both are below commonly accepted significance levels). That could be because people from different castes often go to the same temple. Therefore, going together may be cheaper (pooling transportation). Therefore the relationship between caste and going to the temple is not as pronounced as the relationship between caste and rice lending."
   ]
  },
  {
   "cell_type": "markdown",
   "metadata": {},
   "source": [
    "### Multiple Linear Regression"
   ]
  },
  {
   "cell_type": "markdown",
   "metadata": {},
   "source": [
    "#### Question 3.1: Report\tthe\tfollowing\tinformation: Coefficients\tof\tthe\ttwo\texplanatory\tvariables,\tCorresponding\tp-values, (Adjusted)\tR-squared. [keroricego_hh ~ templecompany_hh + lendmoney_hh]\t"
   ]
  },
  {
   "cell_type": "code",
   "execution_count": 17,
   "metadata": {},
   "outputs": [
    {
     "data": {
      "text/html": [
       "<table class=\"simpletable\">\n",
       "<caption>OLS Regression Results</caption>\n",
       "<tr>\n",
       "  <th>Dep. Variable:</th>      <td>keroricego_hh</td>  <th>  R-squared:         </th> <td>   0.256</td>\n",
       "</tr>\n",
       "<tr>\n",
       "  <th>Model:</th>                   <td>OLS</td>       <th>  Adj. R-squared:    </th> <td>   0.256</td>\n",
       "</tr>\n",
       "<tr>\n",
       "  <th>Method:</th>             <td>Least Squares</td>  <th>  F-statistic:       </th> <td>   1062.</td>\n",
       "</tr>\n",
       "<tr>\n",
       "  <th>Date:</th>             <td>Sun, 08 Oct 2017</td> <th>  Prob (F-statistic):</th>  <td>  0.00</td> \n",
       "</tr>\n",
       "<tr>\n",
       "  <th>Time:</th>                 <td>16:43:20</td>     <th>  Log-Likelihood:    </th> <td>  2171.3</td>\n",
       "</tr>\n",
       "<tr>\n",
       "  <th>No. Observations:</th>      <td>  6163</td>      <th>  AIC:               </th> <td>  -4337.</td>\n",
       "</tr>\n",
       "<tr>\n",
       "  <th>Df Residuals:</th>          <td>  6160</td>      <th>  BIC:               </th> <td>  -4316.</td>\n",
       "</tr>\n",
       "<tr>\n",
       "  <th>Df Model:</th>              <td>     2</td>      <th>                     </th>     <td> </td>   \n",
       "</tr>\n",
       "<tr>\n",
       "  <th>Covariance Type:</th>      <td>nonrobust</td>    <th>                     </th>     <td> </td>   \n",
       "</tr>\n",
       "</table>\n",
       "<table class=\"simpletable\">\n",
       "<tr>\n",
       "          <td></td>            <th>coef</th>     <th>std err</th>      <th>t</th>      <th>P>|t|</th>  <th>[0.025</th>    <th>0.975]</th>  \n",
       "</tr>\n",
       "<tr>\n",
       "  <th>Intercept</th>        <td>    0.0191</td> <td>    0.002</td> <td>    8.605</td> <td> 0.000</td> <td>    0.015</td> <td>    0.023</td>\n",
       "</tr>\n",
       "<tr>\n",
       "  <th>templecompany_hh</th> <td>    0.1241</td> <td>    0.021</td> <td>    6.045</td> <td> 0.000</td> <td>    0.084</td> <td>    0.164</td>\n",
       "</tr>\n",
       "<tr>\n",
       "  <th>lendmoney_hh</th>     <td>    0.4981</td> <td>    0.011</td> <td>   44.987</td> <td> 0.000</td> <td>    0.476</td> <td>    0.520</td>\n",
       "</tr>\n",
       "</table>\n",
       "<table class=\"simpletable\">\n",
       "<tr>\n",
       "  <th>Omnibus:</th>       <td>4807.523</td> <th>  Durbin-Watson:     </th>  <td>   1.933</td> \n",
       "</tr>\n",
       "<tr>\n",
       "  <th>Prob(Omnibus):</th>  <td> 0.000</td>  <th>  Jarque-Bera (JB):  </th> <td>126324.638</td>\n",
       "</tr>\n",
       "<tr>\n",
       "  <th>Skew:</th>           <td> 3.559</td>  <th>  Prob(JB):          </th>  <td>    0.00</td> \n",
       "</tr>\n",
       "<tr>\n",
       "  <th>Kurtosis:</th>       <td>24.006</td>  <th>  Cond. No.          </th>  <td>    9.50</td> \n",
       "</tr>\n",
       "</table>"
      ],
      "text/plain": [
       "<class 'statsmodels.iolib.summary.Summary'>\n",
       "\"\"\"\n",
       "                            OLS Regression Results                            \n",
       "==============================================================================\n",
       "Dep. Variable:          keroricego_hh   R-squared:                       0.256\n",
       "Model:                            OLS   Adj. R-squared:                  0.256\n",
       "Method:                 Least Squares   F-statistic:                     1062.\n",
       "Date:                Sun, 08 Oct 2017   Prob (F-statistic):               0.00\n",
       "Time:                        16:43:20   Log-Likelihood:                 2171.3\n",
       "No. Observations:                6163   AIC:                            -4337.\n",
       "Df Residuals:                    6160   BIC:                            -4316.\n",
       "Df Model:                           2                                         \n",
       "Covariance Type:            nonrobust                                         \n",
       "====================================================================================\n",
       "                       coef    std err          t      P>|t|      [0.025      0.975]\n",
       "------------------------------------------------------------------------------------\n",
       "Intercept            0.0191      0.002      8.605      0.000       0.015       0.023\n",
       "templecompany_hh     0.1241      0.021      6.045      0.000       0.084       0.164\n",
       "lendmoney_hh         0.4981      0.011     44.987      0.000       0.476       0.520\n",
       "==============================================================================\n",
       "Omnibus:                     4807.523   Durbin-Watson:                   1.933\n",
       "Prob(Omnibus):                  0.000   Jarque-Bera (JB):           126324.638\n",
       "Skew:                           3.559   Prob(JB):                         0.00\n",
       "Kurtosis:                      24.006   Cond. No.                         9.50\n",
       "==============================================================================\n",
       "\n",
       "Warnings:\n",
       "[1] Standard Errors assume that the covariance matrix of the errors is correctly specified.\n",
       "\"\"\""
      ]
     },
     "execution_count": 17,
     "metadata": {},
     "output_type": "execute_result"
    }
   ],
   "source": [
    "result = sm.ols(formula='keroricego_hh ~ templecompany_hh + lendmoney_hh', data = v1hh).fit()\n",
    "result.summary()"
   ]
  },
  {
   "cell_type": "markdown",
   "metadata": {},
   "source": [
    "Answer:"
   ]
  },
  {
   "cell_type": "markdown",
   "metadata": {},
   "source": [
    "Coefficient (templecompany_hh) = 0.1241, p-value = 0.000"
   ]
  },
  {
   "cell_type": "markdown",
   "metadata": {},
   "source": [
    "Coefficient (lendmoney_hh) = 0.4981, p-value = 0.000"
   ]
  },
  {
   "cell_type": "markdown",
   "metadata": {},
   "source": [
    "Adjusted R-squared = 0.256"
   ]
  },
  {
   "cell_type": "markdown",
   "metadata": {},
   "source": [
    "#### Question 3.2: Interpret\tyour\tresult\tbased\ton\tcoefficients\tand\tp-values\tyou\tfound\tin\t3.1.\t"
   ]
  },
  {
   "cell_type": "markdown",
   "metadata": {},
   "source": [
    "Answer: \n"
   ]
  },
  {
   "cell_type": "markdown",
   "metadata": {},
   "source": [
    "Rice lending between households is more likely if the households go to the temple together and lend money to the other. However, lending money relationship is a stronger predictor of rice lending than going to temple together (evidence: higher coefficient for lendmoney_hh).  "
   ]
  },
  {
   "cell_type": "markdown",
   "metadata": {},
   "source": [
    "Although the p-value seems to be same when rounded to 3 digits, there is a huge difference in t-statistic for the two coefficients. This provides stronger evidence that lending money predicts rice lending because it is highly unlikely to get a t-statistic that high due to chance (statistically significant). "
   ]
  },
  {
   "cell_type": "markdown",
   "metadata": {},
   "source": [
    "#### Question 3.3\tFor\ta\tpair\tof\thouseholds\tsuch\tthat\t“templecompany_hh\t=\t1”\tand\t“lendmoney_hh\t=\t1”,\twhat is\tthe\tpredicted/fitted value\t(probability)\tthat\tthey\talso\thave\tthe\trelation “keroricego_hh_fit”?"
   ]
  },
  {
   "cell_type": "markdown",
   "metadata": {},
   "source": [
    "#### a. First calculate the fitted value based on 3.1"
   ]
  },
  {
   "cell_type": "code",
   "execution_count": 18,
   "metadata": {},
   "outputs": [
    {
     "data": {
      "text/plain": [
       "0.6413"
      ]
     },
     "execution_count": 18,
     "metadata": {},
     "output_type": "execute_result"
    }
   ],
   "source": [
    "temple_company = 1\n",
    "lend_money = 1\n",
    "intercept = 0.0191\n",
    "temple_company_coeff = 0.1241\n",
    "lend_money_coeff = 0.4981\n",
    "lend_rice = temple_company * temple_company_coeff + lend_money * lend_money_coeff + intercept\n",
    "lend_rice"
   ]
  },
  {
   "cell_type": "markdown",
   "metadata": {},
   "source": [
    "Answer = 0.6413"
   ]
  },
  {
   "cell_type": "markdown",
   "metadata": {},
   "source": [
    "#### b. Verify the answer using 'predict'"
   ]
  },
  {
   "cell_type": "code",
   "execution_count": 19,
   "metadata": {},
   "outputs": [
    {
     "data": {
      "text/plain": [
       "2003    0.641316\n",
       "dtype: float64"
      ]
     },
     "execution_count": 19,
     "metadata": {},
     "output_type": "execute_result"
    }
   ],
   "source": [
    "temp = v1hh.loc[(v1hh['templecompany_hh'] == 1) & (v1hh['lendmoney_hh'] == 1) & (v1hh['keroricego_hh'] == 1) ]\n",
    "check = result.predict(temp)\n",
    "check.head(1)"
   ]
  },
  {
   "cell_type": "markdown",
   "metadata": {},
   "source": [
    "Answer: Both the calculated and verified answer are the same = 0.6413"
   ]
  }
 ],
 "metadata": {
  "kernelspec": {
   "display_name": "Python 3",
   "language": "python",
   "name": "python3"
  },
  "language_info": {
   "codemirror_mode": {
    "name": "ipython",
    "version": 3
   },
   "file_extension": ".py",
   "mimetype": "text/x-python",
   "name": "python",
   "nbconvert_exporter": "python",
   "pygments_lexer": "ipython3",
   "version": "3.6.1"
  }
 },
 "nbformat": 4,
 "nbformat_minor": 2
}
